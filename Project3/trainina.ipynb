{
 "cells": [
  {
   "cell_type": "code",
   "execution_count": 1,
   "metadata": {},
   "outputs": [],
   "source": [
    "import torch\n",
    "import numpy as np\n",
    "import pandas as pd\n",
    "from torch.utils.data import DataLoader\n",
    "from torchvision import models\n",
    "import torch.nn as nn\n",
    "from torch import optim\n",
    "from tqdm import tqdm\n",
    "import torch.utils.data as data\n",
    "from sklearn.metrics import roc_auc_score, average_precision_score\n",
    "\n",
    "\n"
   ]
  },
  {
   "cell_type": "code",
   "execution_count": 2,
   "metadata": {},
   "outputs": [],
   "source": [
    "train_label = pd.read_csv('./train_label.txt', header=None).to_numpy()\n",
    "test_label = pd.read_csv('./test_label.txt', header=None).to_numpy()\n",
    "train_image = np.load('./train_image.npy')\n",
    "test_image = np.load('./test_image.npy')"
   ]
  },
  {
   "cell_type": "code",
   "execution_count": 3,
   "metadata": {},
   "outputs": [],
   "source": [
    "class CustomDataset(data.Dataset):\n",
    "    def __init__(self, img, label):\n",
    "        super(CustomDataset, self).__init__()\n",
    "        self.images = img\n",
    "        self.label = label\n",
    "\n",
    "    def __len__(self):\n",
    "        return len(self.images)\n",
    "\n",
    "    def __getitem__(self, index):\n",
    "        img = self.images[index]\n",
    "        img = np.stack([img, img, img])\n",
    "        labels = self.label[index]\n",
    "\n",
    "        return img, labels\n",
    "    "
   ]
  },
  {
   "cell_type": "code",
   "execution_count": 4,
   "metadata": {},
   "outputs": [],
   "source": [
    "train_dataset = CustomDataset(train_image, train_label[:,1:])\n",
    "test_dataset = CustomDataset(test_image, test_label[:,1:])"
   ]
  },
  {
   "cell_type": "code",
   "execution_count": 5,
   "metadata": {},
   "outputs": [],
   "source": [
    "device = torch.device('cuda:3')\n",
    "# model = models.resnet50(pretrained=True)\n",
    "# model.fc = nn.Linear(model.fc.in_features, 14)\n",
    "# model.to(device)\n",
    "\n",
    "# lr = 0.1\n",
    "# num_epochs=5\n",
    "# optimizer = optim.SGD(model.parameters(), lr=lr, momentum=0.9)\n",
    "# loss_function = nn.BCEWithLogitsLoss().to(device)\n",
    "\n",
    "train_dataloader = DataLoader(train_dataset, batch_size=32)\n",
    "test_dataloader = DataLoader(test_dataset, batch_size=32)"
   ]
  },
  {
   "cell_type": "code",
   "execution_count": null,
   "metadata": {},
   "outputs": [],
   "source": [
    "for epoch in range(num_epochs):\n",
    "    print(epoch)\n",
    "    for i, data in enumerate(tqdm((train_dataloader))):\n",
    "        imgs, labels = data\n",
    "        imgs = imgs.to(device)\n",
    "        labels = labels.to(device)\n",
    "\n",
    "        optimizer.zero_grad()\n",
    "\n",
    "        outputs = model(imgs.float())\n",
    "        train_loss = loss_function(outputs, labels.float())\n",
    "        train_loss.backward()\n",
    "        optimizer.step()\n",
    "\n",
    "    for i, data in enumerate(tqdm(test_dataloader)):\n",
    "        imgs, _ = data\n",
    "        imgs = imgs.to(device)\n",
    "        predict = torch.sigmoid(model(imgs.float()))\n",
    "        if i==0:\n",
    "            prediction = predict\n",
    "        else:\n",
    "            prediction = torch.cat([prediction, predict], dim=0)\n",
    "\n",
    "    auroc_test_macro = roc_auc_score(test_label[:,1:], prediction, multi_class='ovr', average='macro')\n",
    "    auprc_test_macro = average_precision_score(test_label[:,1:], prediction, average='macro')\n",
    "    auroc_test_micro = roc_auc_score(test_label[:,1:], prediction, multi_class='ovr', average='micro')\n",
    "    auprc_test_micro = average_precision_score(test_label[:,1:], prediction, average='micro')\n",
    "    print(f'AUROC_MACRO:{auroc_test_macro}\\nAUPRC_MACRO:{auprc_test_macro}\\nAUROC_MICRO:{auroc_test_micro}\\nAUPRC_MICRO:{auprc_test_micro}\\n')\n"
   ]
  },
  {
   "cell_type": "code",
   "execution_count": 6,
   "metadata": {},
   "outputs": [
    {
     "name": "stderr",
     "output_type": "stream",
     "text": [
      "100%|██████████| 210/210 [00:08<00:00, 23.42it/s]\n"
     ]
    }
   ],
   "source": [
    "model = torch.load('./model')\n",
    "model.to(device)\n",
    "for i, data in enumerate(tqdm(test_dataloader)):\n",
    "        imgs, _ = data\n",
    "        imgs = imgs.to(device)\n",
    "        predict = torch.sigmoid(model(imgs.float())).detach().cpu()\n",
    "        if i==0:\n",
    "            prediction = predict\n",
    "        else:\n",
    "            prediction = torch.cat([prediction, predict], dim=0)\n",
    "\n",
    "auroc_test_macro = roc_auc_score(test_label[:,1:], prediction, multi_class='ovr', average='macro')\n",
    "auprc_test_macro = average_precision_score(test_label[:,1:], prediction, average='macro')\n",
    "auroc_test_micro = roc_auc_score(test_label[:,1:], prediction, multi_class='ovr', average='micro')\n",
    "auprc_test_micro = average_precision_score(test_label[:,1:], prediction, average='micro')\n",
    "print(f'AUROC_MACRO:{auroc_test_macro}\\nAUPRC_MACRO:{auprc_test_macro}\\nAUROC_MICRO:{auroc_test_micro}\\nAUPRC_MICRO:{auprc_test_micro}\\n')"
   ]
  },
  {
   "cell_type": "code",
   "execution_count": 7,
   "metadata": {},
   "outputs": [
    {
     "name": "stdout",
     "output_type": "stream",
     "text": [
      "AUROC_MACRO:0.7350613373584487\n",
      "AUPRC_MACRO:0.2898902362939529\n",
      "AUROC_MICRO:0.8541308518655156\n",
      "AUPRC_MICRO:0.5099094573015348\n",
      "\n"
     ]
    }
   ],
   "source": [
    "auroc_test_macro = roc_auc_score(test_label[:,1:], prediction, multi_class='ovr', average='macro')\n",
    "auprc_test_macro = average_precision_score(test_label[:,1:], prediction, average='macro')\n",
    "auroc_test_micro = roc_auc_score(test_label[:,1:], prediction, multi_class='ovr', average='micro')\n",
    "auprc_test_micro = average_precision_score(test_label[:,1:], prediction, average='micro')\n",
    "print(f'AUROC_MACRO:{auroc_test_macro}\\nAUPRC_MACRO:{auprc_test_macro}\\nAUROC_MICRO:{auroc_test_micro}\\nAUPRC_MICRO:{auprc_test_micro}\\n')"
   ]
  },
  {
   "cell_type": "code",
   "execution_count": null,
   "metadata": {},
   "outputs": [],
   "source": []
  }
 ],
 "metadata": {
  "kernelspec": {
   "display_name": "Python 3.9.12 ('base': conda)",
   "language": "python",
   "name": "python3"
  },
  "language_info": {
   "codemirror_mode": {
    "name": "ipython",
    "version": 3
   },
   "file_extension": ".py",
   "mimetype": "text/x-python",
   "name": "python",
   "nbconvert_exporter": "python",
   "pygments_lexer": "ipython3",
   "version": "3.9.12"
  },
  "orig_nbformat": 4,
  "vscode": {
   "interpreter": {
    "hash": "afb134de6b20bc18cb5687bdbd0a6385f37f7d47a0b53beccc252b0628f91b17"
   }
  }
 },
 "nbformat": 4,
 "nbformat_minor": 2
}
